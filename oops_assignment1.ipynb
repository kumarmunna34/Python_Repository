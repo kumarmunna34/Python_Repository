{
 "cells": [
  {
   "cell_type": "markdown",
   "metadata": {},
   "source": [
    "# Define a class for product, write get, get_sales price, get_costprice, get_discount."
   ]
  },
  {
   "cell_type": "code",
   "execution_count": 1,
   "metadata": {},
   "outputs": [
    {
     "name": "stdout",
     "output_type": "stream",
     "text": [
      "Available products are: \n",
      "1. mobile\n",
      "2. laptop\n",
      "3. tablet\n",
      "Enter your choice of product: 2\n",
      "product:  hp ,cost price:  35000 ,sales price:  40000 ,discount:  15%\n"
     ]
    }
   ],
   "source": [
    "class Product:\n",
    "    def __init__(x,name,cost_price,sales_price,discount):\n",
    "        x.name = name\n",
    "        x.cost_price = cost_price\n",
    "        x.sales_price = sales_price\n",
    "        x.discount = discount\n",
    "    def get(y):\n",
    "        print(\"Available products are: \\n1. mobile\\n2. laptop\\n3. tablet\")\n",
    "        choice = int(input(\"Enter your choice of product: \"))\n",
    "        return choice\n",
    "    def get_cost_price(prod):\n",
    "        return prod.cost_price\n",
    "    def get_sales_price(prod):\n",
    "        return prod.sales_price\n",
    "    def get_discount(prod):\n",
    "        return prod.discount  \n",
    "mobile = Product(\"mi\",10000,15000,\"10%\")\n",
    "laptop = Product(\"hp\",35000,40000,\"15%\")\n",
    "tablet = Product(\"kindle\",9000,10000,\"5%\")\n",
    "choice = mobile.get()\n",
    "if choice == 1:\n",
    "    print(\"product: \",mobile.name,\",cost price: \",mobile.get_cost_price(),\",sales price: \",mobile.get_sales_price(),\",discount: \",mobile.get_discount())\n",
    "elif choice == 2:\n",
    "    print(\"product: \",laptop.name,\",cost price: \",laptop.get_cost_price(),\",sales price: \",laptop.get_sales_price(),\",discount: \",laptop.get_discount())\n",
    "elif choice == 3:\n",
    "    print(\"product: \",tablet.name,\",cost price: \",tablet.get_cost_price(),\",sales price: \",tablet.get_sales_price(),\",discount: \",tablet.get_discount())"
   ]
  },
  {
   "cell_type": "markdown",
   "metadata": {},
   "source": [
    "# Define a ware house class with create, update, delete, browse"
   ]
  },
  {
   "cell_type": "code",
   "execution_count": 9,
   "metadata": {},
   "outputs": [
    {
     "data": {
      "text/plain": [
       "<sqlite3.Cursor at 0x24adf363b90>"
      ]
     },
     "execution_count": 9,
     "metadata": {},
     "output_type": "execute_result"
    }
   ],
   "source": [
    "import sqlite3\n",
    "con = sqlite3.connect(\"db1.sqlite3\")\n",
    "cur = con.cursor()\n",
    "q=\"create table if not exists Product(name varchar(250),cost_price float,sales_price float,quantity int)\"\n",
    "cur.execute(q)"
   ]
  },
  {
   "cell_type": "code",
   "execution_count": 84,
   "metadata": {},
   "outputs": [
    {
     "name": "stdout",
     "output_type": "stream",
     "text": [
      "Warehouse Menu: \n",
      "1. Add product\n",
      "2. Update product\n",
      "3. Delete product\n",
      "4. Browse product\n",
      "Enter you choice: 3\n",
      "Enter the name of product you want to updatewe\n",
      "product is present, please proceed with delete\n"
     ]
    },
    {
     "ename": "TypeError",
     "evalue": "'str' object is not callable",
     "output_type": "error",
     "traceback": [
      "\u001b[1;31m---------------------------------------------------------------------------\u001b[0m",
      "\u001b[1;31mTypeError\u001b[0m                                 Traceback (most recent call last)",
      "\u001b[1;32m<ipython-input-84-7b920aa97c78>\u001b[0m in \u001b[0;36m<module>\u001b[1;34m\u001b[0m\n\u001b[0;32m     62\u001b[0m     \u001b[0mmobile\u001b[0m\u001b[1;33m.\u001b[0m\u001b[0mupdate_product\u001b[0m\u001b[1;33m(\u001b[0m\u001b[1;33m)\u001b[0m\u001b[1;33m\u001b[0m\u001b[1;33m\u001b[0m\u001b[0m\n\u001b[0;32m     63\u001b[0m \u001b[1;32melif\u001b[0m \u001b[0moperation\u001b[0m \u001b[1;33m==\u001b[0m \u001b[1;36m3\u001b[0m\u001b[1;33m:\u001b[0m\u001b[1;33m\u001b[0m\u001b[1;33m\u001b[0m\u001b[0m\n\u001b[1;32m---> 64\u001b[1;33m     \u001b[0mmobile\u001b[0m\u001b[1;33m.\u001b[0m\u001b[0mdelete_product\u001b[0m\u001b[1;33m(\u001b[0m\u001b[1;33m)\u001b[0m\u001b[1;33m\u001b[0m\u001b[1;33m\u001b[0m\u001b[0m\n\u001b[0m\u001b[0;32m     65\u001b[0m \u001b[1;32melif\u001b[0m \u001b[0moperation\u001b[0m \u001b[1;33m==\u001b[0m \u001b[1;36m4\u001b[0m\u001b[1;33m:\u001b[0m\u001b[1;33m\u001b[0m\u001b[1;33m\u001b[0m\u001b[0m\n\u001b[0;32m     66\u001b[0m     \u001b[0mmobile\u001b[0m\u001b[1;33m.\u001b[0m\u001b[0mbrowse_product\u001b[0m\u001b[1;33m(\u001b[0m\u001b[1;33m)\u001b[0m\u001b[1;33m\u001b[0m\u001b[1;33m\u001b[0m\u001b[0m\n",
      "\u001b[1;32m<ipython-input-84-7b920aa97c78>\u001b[0m in \u001b[0;36mdelete_product\u001b[1;34m(x)\u001b[0m\n\u001b[0;32m     50\u001b[0m                 \u001b[0mflag\u001b[0m \u001b[1;33m=\u001b[0m \u001b[1;36m0\u001b[0m\u001b[1;33m\u001b[0m\u001b[1;33m\u001b[0m\u001b[0m\n\u001b[0;32m     51\u001b[0m                 \u001b[0mprint\u001b[0m\u001b[1;33m(\u001b[0m\u001b[1;34m\"product is present, please proceed with delete\"\u001b[0m\u001b[1;33m)\u001b[0m\u001b[1;33m\u001b[0m\u001b[1;33m\u001b[0m\u001b[0m\n\u001b[1;32m---> 52\u001b[1;33m                 \u001b[0mq\u001b[0m \u001b[1;33m=\u001b[0m \u001b[1;34m\"delete from Product where name = ('%s')\"\u001b[0m\u001b[1;33m%\u001b[0m\u001b[0ms\u001b[0m\u001b[1;33m(\u001b[0m\u001b[0mname1\u001b[0m\u001b[1;33m)\u001b[0m\u001b[1;33m\u001b[0m\u001b[1;33m\u001b[0m\u001b[0m\n\u001b[0m\u001b[0;32m     53\u001b[0m                 \u001b[0mcur\u001b[0m\u001b[1;33m.\u001b[0m\u001b[0mexecute\u001b[0m\u001b[1;33m(\u001b[0m\u001b[0mq\u001b[0m\u001b[1;33m)\u001b[0m\u001b[1;33m\u001b[0m\u001b[1;33m\u001b[0m\u001b[0m\n\u001b[0;32m     54\u001b[0m                 \u001b[0mcon\u001b[0m\u001b[1;33m.\u001b[0m\u001b[0mcommit\u001b[0m\u001b[1;33m(\u001b[0m\u001b[1;33m)\u001b[0m\u001b[1;33m\u001b[0m\u001b[1;33m\u001b[0m\u001b[0m\n",
      "\u001b[1;31mTypeError\u001b[0m: 'str' object is not callable"
     ]
    }
   ],
   "source": [
    "class Warehouse:\n",
    "\n",
    "    def add_product(x):\n",
    "        name1 = input(\"Adding product: \\nEnter name of the product: \")\n",
    "        cur.execute(\"select name from Product\")\n",
    "        for row  in cur.fetchall(): #to check whether product is already present in table or not\n",
    "            s = str(row)\n",
    "            if s.find(name1)<0:\n",
    "                flag = 1\n",
    "            else: \n",
    "                flag = 0\n",
    "                print(\"product is already present, please proceed with update\")\n",
    "                break\n",
    "        if flag: #add product if not in the table\n",
    "            cost_price1 = float(input(\"Enter cost price of the product: \"))\n",
    "            sales_price1 = float(input(\"Enter sales_price of the product: \"))\n",
    "            quantity1 = int(input(\"Enter quantity of the product: \"))\n",
    "            q = \"insert into Product(name,cost_price,sales_price,quantity) values('%s',%s,%s,%s)\"%(name1,cost_price1,sales_price1,quantity1)\n",
    "            cur.execute(q)\n",
    "            con.commit()\n",
    "            \n",
    "    def update_product(x):\n",
    "        name1 = input(\"Enter the name of product you want to update\")\n",
    "        cur.execute(\"select name from Product\")\n",
    "        for row  in cur.fetchall(): #to check whether product is already present in table or not\n",
    "            s = str(row)\n",
    "            if s.find(name1)<0:\n",
    "                flag = 1\n",
    "            else: \n",
    "                flag = 0\n",
    "                print(\"product is present, please proceed with update\")\n",
    "                break\n",
    "        if flag == 0: #update product\n",
    "            cost_price1 = float(input(\"Enter cost price of the product: \"))\n",
    "            sales_price1 = float(input(\"Enter sales_price of the product: \"))\n",
    "            quantity1 = int(input(\"Enter quantity of the product: \"))\n",
    "            q = \"replace into Product (name,cost_price,sales_price,quantity) values('%s',%s,%s,%s)\"%(name1,cost_price1,sales_price1,quantity1)\n",
    "            cur.execute(q)\n",
    "            con.commit()\n",
    "        else:\n",
    "            print(\"product is not present\")\n",
    "    def delete_product(x):\n",
    "        name1 = input(\"Enter the name of product you want to update\")\n",
    "        cur.execute(\"select name from Product\")\n",
    "        for row  in cur.fetchall(): #to check whether product is already present in table or not\n",
    "            s = str(row)\n",
    "            if s.find(name1)<0:\n",
    "                flag = 1\n",
    "            else: \n",
    "                flag = 0\n",
    "                print(\"product is present, please proceed with delete\")\n",
    "                q = \"delete from Product where name = ('%s')\"%s(name1)\n",
    "                cur.execute(q)\n",
    "                con.commit()\n",
    "                break\n",
    "                \n",
    "operation = int(input(\"Warehouse Menu: \\n1. Add product\\n2. Update product\\n3. Delete product\\n4. Browse product\\nEnter you choice: \"))        \n",
    "mobile = Warehouse()\n",
    "if operation == 1:\n",
    "    mobile.add_product()\n",
    "elif operation == 2:\n",
    "    mobile.update_product()\n",
    "elif operation == 3:\n",
    "    mobile.delete_product()\n",
    "elif operation == 4:\n",
    "    mobile.browse_product()"
   ]
  }
 ],
 "metadata": {
  "kernelspec": {
   "display_name": "Python 3",
   "language": "python",
   "name": "python3"
  },
  "language_info": {
   "codemirror_mode": {
    "name": "ipython",
    "version": 3
   },
   "file_extension": ".py",
   "mimetype": "text/x-python",
   "name": "python",
   "nbconvert_exporter": "python",
   "pygments_lexer": "ipython3",
   "version": "3.7.1"
  }
 },
 "nbformat": 4,
 "nbformat_minor": 2
}
